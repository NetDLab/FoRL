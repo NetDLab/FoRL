{
 "cells": [
  {
   "cell_type": "markdown",
   "metadata": {},
   "source": [
    "<hr/>\n",
    "\n",
    "# EN.520.637 Foundations of Reinforcement Learning\n",
    "\n",
    "<hr/>"
   ]
  },
  {
   "cell_type": "markdown",
   "metadata": {},
   "source": [
    "<h1><font color=\"darkblue\">Lab 3: Infinite Horizon MDPs (40 points)  </font></h1>\n",
    "\n",
    "\n",
    "\n",
    "## Requirements\n",
    "Make sure that the file gridworld.py is in the same directory as your notebook.\n",
    "\n",
    "\n",
    "## Deadline\n",
    "11:59 pm Oct 12th, 2022 \n",
    "\n",
    "##  Content\n",
    "In this assignment we will investigate two algorithms for infinite-horizon MDPs. Namely:\n",
    "\n",
    "* Policy Evaluation & Value Iteration (GridWorld)\n",
    "* Policy Iteration (Machine-repair problem of the homework)\n"
   ]
  },
  {
   "cell_type": "code",
   "execution_count": 1,
   "metadata": {},
   "outputs": [],
   "source": [
    "# Imports\n",
    "import numpy as np"
   ]
  },
  {
   "cell_type": "markdown",
   "metadata": {},
   "source": [
    "## Problem 1. Policy Evaluation & Value Iteration (20 points)\n",
    "\n"
   ]
  },
  {
   "cell_type": "markdown",
   "metadata": {},
   "source": [
    "### 1.1 The GridWorld\n",
    "\n",
    "\n",
    "**(Simple) Tabular Grid-World**\n",
    "\n",
    "You can visualize the grid worlds we will train our agents on, by running the cells below.\n",
    "`S` indicates the start state and `G` indicates the goal.  \n",
    "\n",
    "At every step, the agent can choose one of the four actions: \"up\",\"right\",\"down\",\"left\", moving to the next tile in that direction. If the agent chooses to move into a wall, he \"bumps\" into it and remains in the same place.\n",
    "\n",
    "Rewards are: `-5` for bumping into a wall, `+10` for reaching the goal, and `0` otherwise.  The episode ends when the agent reaches the goal, and otherwise continues.  \n"
   ]
  },
  {
   "cell_type": "code",
   "execution_count": 2,
   "metadata": {},
   "outputs": [
    {
     "data": {
      "image/png": "[encoded data removed]",
      "text/plain": [
       "<Figure size 360x360 with 1 Axes>"
      ]
     },
     "metadata": {},
     "output_type": "display_data"
    }
   ],
   "source": [
    "from gridworld import GridWorld\n",
    "\n",
    "gw = GridWorld()\n",
    "gw.plot_grid(plot_title='The grid')"
   ]
  },
  {
   "cell_type": "markdown",
   "metadata": {},
   "source": [
    "### Task 1.1.1 Answer the following questions [3 Points]\n",
    "\n",
    "Under a discounted setting $\\gamma<1$:\n",
    "1. Describe what is an optimal policy for this problem\n",
    "2. Is the optimal policy unique? Justify your answer\n",
    "\n",
    "3. How do your answers change for an undiscounted setting $\\gamma=1$?"
   ]
  },
  {
   "cell_type": "markdown",
   "metadata": {},
   "source": [
    "**Your answer**"
   ]
  },
  {
   "cell_type": "markdown",
   "metadata": {},
   "source": [
    "### 1.1.2 States and state values\n",
    "Excluding the wall around the grid, there are 56 tiles (INCLUDING obstacles inside the grid), and they correspond to 56 states (obstacles and goal are non-reachable states).\n",
    "\n",
    "We use numbers from 0 to 55 to represent these states (see gridworld.py for the coversion between integer and tile position). The correspondance are as shown below:"
   ]
  },
  {
   "cell_type": "code",
   "execution_count": 3,
   "metadata": {},
   "outputs": [
    {
     "data": {
      "image/png": "[encoded data removed]",
      "text/plain": [
       "<Figure size 360x360 with 1 Axes>"
      ]
     },
     "metadata": {},
     "output_type": "display_data"
    }
   ],
   "source": [
    "gw.plot_state_values(np.arange(56),value_format=\"{:d}\",plot_title='Each states as an integer')"
   ]
  },
  {
   "cell_type": "markdown",
   "metadata": {},
   "source": [
    "### 1.1.3 Taking actions\n",
    "Use `GridWorld.step(action)` to take an action, and use `GridWorld.reset()` to restart an episode.\n",
    "\n",
    "`action` is an integer from 0 to 3, denoting\n",
    "\n",
    "0: \"Up\"; 1: \"Right\"; 2: \"Down\"; 3: \"Left\" \n",
    "\n",
    "\n",
    "The method `Gridworld.step()` returns a tuple `r, done, next_s` where `r` is the stage-reward, `done` is a boolean indicating episode termination and `next_s` is the next state.\n"
   ]
  },
  {
   "cell_type": "code",
   "execution_count": 4,
   "metadata": {},
   "outputs": [
    {
     "name": "stdout",
     "output_type": "stream",
     "text": [
      "The current state is 9, which corresponds to tile position (1, 1)\n",
      "\n",
      "Take action 3, get reward 0.0, move to state 8\n",
      "Now the current state is 8, which corresponds to tile position (1, 0)\n",
      "\n",
      "Reset episode\n",
      "Now the current state is 9, which corresponds to tile position (1, 1)\n"
     ]
    }
   ],
   "source": [
    "# Reset the state to 'S'\n",
    "gw.reset()\n",
    "\n",
    "# Get the current state\n",
    "current_state = gw.get_current_state()\n",
    "tile_pos = gw.int_to_state(current_state)\n",
    "print(\"The current state is {}, which corresponds to tile position {}\\n\".format(current_state,tile_pos))\n",
    "\n",
    "# Take a random action\n",
    "action = np.random.randint(4)\n",
    "reward, terminated, next_state = gw.step(action)\n",
    "tile_pos = gw.int_to_state(next_state)\n",
    "print(\"Take action {}, get reward {}, move to state {}\".format(action,reward,next_state))\n",
    "print(\"Now the current state is {}, which corresponds to tile position {}\\n\".format(next_state,tile_pos))\n",
    "\n",
    "# Reset to state 'S'\n",
    "gw.reset()\n",
    "current_state = gw.get_current_state()\n",
    "tile_pos = gw.int_to_state(current_state)\n",
    "print(\"Reset episode\")\n",
    "print(\"Now the current state is {}, which corresponds to tile position {}\".format(current_state,tile_pos))\n",
    "\n"
   ]
  },
  {
   "cell_type": "markdown",
   "metadata": {},
   "source": [
    "### 1.1.4 Plotting Deterministic Policies\n",
    "A deterministic policy is a function from state to action, which can be represented by a (56,)-numpy array whose entries are all integers in (0-3)"
   ]
  },
  {
   "cell_type": "code",
   "execution_count": 5,
   "metadata": {},
   "outputs": [
    {
     "data": {
      "image/png": "[encoded data removed]",
      "text/plain": [
       "<Figure size 360x360 with 1 Axes>"
      ]
     },
     "metadata": {},
     "output_type": "display_data"
    }
   ],
   "source": [
    "gw.plot_policy(np.random.randint(4,size=(56,)),plot_title='A deterministic policy')"
   ]
  },
  {
   "cell_type": "markdown",
   "metadata": {},
   "source": [
    "### 1.2 Policy Evaluation\n",
    "\n",
    "Recall that the value function $v_\\pi(s)$ of a fixed policy $\\pi(s)$ can be iteratively computed via Policy Evaluation (See Sutton&Barto Section 4.1), the iteration is given by $$v_{k+1}(s)=\\sum_{a}\\pi(a|s)\\sum_{s',r}p(s',r|s,a)[r+\\gamma v_{k}(s)]\\,,$$ which can be written as \n",
    "$$\n",
    "    v_{k+1}(s)=\\sum_{a}\\pi(a|s)\\left[\\mathbb{E}_\\pi[r|s,a]+\\gamma\\sum_{s'}p(s'|s,a)v_k(s')\\right]\\,.\n",
    "$$\n",
    "If we write the value function $v_{k+1},v_k$ as vectors, then we have\n",
    "$$\n",
    "    v_{k+1} = \\sum_{a}\\pi(a|s)\\left[R_\\pi(a)+\\gamma P_\\pi(a)v_{k}\\right]\\,.\n",
    "$$\n",
    "where $R_\\pi(a)$ is the expected reward under action $a$ and  $P_\\pi(a)$ is the transition probability matrix under action $a$. \n",
    "\n",
    "With this we can find the value function $v_\\pi$ of random policy $\\pi$ when discount is 0.9, the code is shown below\n",
    "\n"
   ]
  },
  {
   "cell_type": "code",
   "execution_count": 6,
   "metadata": {},
   "outputs": [
    {
     "data": {
      "image/png": "[encoded data removed]",
      "text/plain": [
       "<Figure size 360x360 with 1 Axes>"
      ]
     },
     "metadata": {},
     "output_type": "display_data"
    }
   ],
   "source": [
    "pi_a = [0.25,0.25,0.25,0.25] # Uniformly-random policy (takes each action with equal probability, for all states) \n",
    "\n",
    "gamma = 0.9\n",
    "max_it = 1000  # Maximum number of iterations\n",
    "tol = 1e-5  # Tolerance\n",
    "v = np.zeros((56,))\n",
    "\n",
    "for i in range(max_it):\n",
    "    value_temp = np.zeros((56,))\n",
    "    for action in range(4):\n",
    "        reward, tran_prob = gw.transition(action)\n",
    "        value_temp = value_temp + pi_a[action]*(reward+gamma* np.matmul(tran_prob,v))\n",
    "\n",
    "    if np.linalg.norm(value_temp-v)<tol:  # Termination condition\n",
    "        break\n",
    "    else:\n",
    "        v = value_temp\n",
    "        \n",
    "\n",
    "gw.plot_state_values(v,value_format=\"{:.1f}\",plot_title='Value function of Random Policy')"
   ]
  },
  {
   "cell_type": "markdown",
   "metadata": {},
   "source": [
    "### Task 1.2.1 [Coding, 7 points]\n",
    "Compute and plot the greedy policy corresponding to the value function above.\n",
    "\n",
    "Hint: First compute the Q values from `v` above."
   ]
  },
  {
   "cell_type": "code",
   "execution_count": 7,
   "metadata": {},
   "outputs": [],
   "source": [
    "# Answer: Your code here"
   ]
  },
  {
   "cell_type": "markdown",
   "metadata": {},
   "source": [
    "## 1.3 Value Iteration\n",
    "\n"
   ]
  },
  {
   "cell_type": "markdown",
   "metadata": {},
   "source": [
    "### Task 1.3.1 [Coding, 10 points]\n",
    "\n",
    "Implement Value Iteration Algorithm [Sutton&Barto Section 4.4] to find the optimal policy of this gridworld, and plot its value function.\n",
    "\n"
   ]
  },
  {
   "cell_type": "code",
   "execution_count": 8,
   "metadata": {},
   "outputs": [],
   "source": [
    "# Value Iteration Algorithm\n",
    "\n",
    "def value_iteration(gridworld, gamma):\n",
    "# input:  gridworld, (GridWorld class) gridworld class describing the environment\n",
    "#         gamma,     (float 0-1) discount of the return\n",
    "# output: optim value,  (1d numpy array, float) optimal value function \n",
    "#         optim_policy, (1d numpy array, int {0,1,2,3}) optimal policy\n",
    "\n",
    "#write your code here\n",
    "\n",
    "    return optim_value, optim_policy"
   ]
  },
  {
   "cell_type": "code",
   "execution_count": 9,
   "metadata": {},
   "outputs": [
    {
     "ename": "NameError",
     "evalue": "name 'optim_value' is not defined",
     "output_type": "error",
     "traceback": [
      "\u001b[0;31m---------------------------------------------------------------------------\u001b[0m",
      "\u001b[0;31mNameError\u001b[0m                                 Traceback (most recent call last)",
      "\u001b[0;32m<ipython-input-9-8bd584967812>\u001b[0m in \u001b[0;36m<module>\u001b[0;34m\u001b[0m\n\u001b[1;32m      1\u001b[0m \u001b[0;31m# check your result here\u001b[0m\u001b[0;34m\u001b[0m\u001b[0;34m\u001b[0m\u001b[0;34m\u001b[0m\u001b[0m\n\u001b[0;32m----> 2\u001b[0;31m \u001b[0moptim_value\u001b[0m\u001b[0;34m,\u001b[0m \u001b[0moptim_policy\u001b[0m \u001b[0;34m=\u001b[0m \u001b[0mvalue_iteration\u001b[0m\u001b[0;34m(\u001b[0m\u001b[0mgw\u001b[0m\u001b[0;34m,\u001b[0m \u001b[0;36m0.9\u001b[0m\u001b[0;34m)\u001b[0m\u001b[0;34m\u001b[0m\u001b[0;34m\u001b[0m\u001b[0m\n\u001b[0m\u001b[1;32m      3\u001b[0m \u001b[0mgw\u001b[0m\u001b[0;34m.\u001b[0m\u001b[0mplot_state_values\u001b[0m\u001b[0;34m(\u001b[0m\u001b[0moptim_value\u001b[0m\u001b[0;34m,\u001b[0m\u001b[0mvalue_format\u001b[0m\u001b[0;34m=\u001b[0m\u001b[0;34m\"{:.1f}\"\u001b[0m\u001b[0;34m,\u001b[0m\u001b[0mplot_title\u001b[0m\u001b[0;34m=\u001b[0m\u001b[0;34m'Value function of Value Iteration'\u001b[0m\u001b[0;34m)\u001b[0m\u001b[0;34m\u001b[0m\u001b[0;34m\u001b[0m\u001b[0m\n\u001b[1;32m      4\u001b[0m \u001b[0mgw\u001b[0m\u001b[0;34m.\u001b[0m\u001b[0mplot_policy\u001b[0m\u001b[0;34m(\u001b[0m\u001b[0moptim_policy\u001b[0m\u001b[0;34m,\u001b[0m\u001b[0mplot_title\u001b[0m\u001b[0;34m=\u001b[0m\u001b[0;34m'Greedy Policy of Value Iteration'\u001b[0m\u001b[0;34m)\u001b[0m\u001b[0;34m\u001b[0m\u001b[0;34m\u001b[0m\u001b[0m\n",
      "\u001b[0;32m<ipython-input-8-733eb35010ec>\u001b[0m in \u001b[0;36mvalue_iteration\u001b[0;34m(gridworld, gamma)\u001b[0m\n\u001b[1;32m      9\u001b[0m \u001b[0;31m#write your code here\u001b[0m\u001b[0;34m\u001b[0m\u001b[0;34m\u001b[0m\u001b[0;34m\u001b[0m\u001b[0m\n\u001b[1;32m     10\u001b[0m \u001b[0;34m\u001b[0m\u001b[0m\n\u001b[0;32m---> 11\u001b[0;31m     \u001b[0;32mreturn\u001b[0m \u001b[0moptim_value\u001b[0m\u001b[0;34m,\u001b[0m \u001b[0moptim_policy\u001b[0m\u001b[0;34m\u001b[0m\u001b[0;34m\u001b[0m\u001b[0m\n\u001b[0m",
      "\u001b[0;31mNameError\u001b[0m: name 'optim_value' is not defined"
     ]
    }
   ],
   "source": [
    "# check your result here\n",
    "optim_value, optim_policy = value_iteration(gw, 0.9)\n",
    "gw.plot_state_values(optim_value,value_format=\"{:.1f}\",plot_title='Value function of Value Iteration')\n",
    "gw.plot_policy(optim_policy,plot_title='Greedy Policy of Value Iteration')"
   ]
  },
  {
   "cell_type": "markdown",
   "metadata": {},
   "source": [
    "## Problem 2. Policy Iteration (HW2: P3) [20 points]\n",
    "\n",
    "#### Suppose we have a machine that is either running or is broken down.  If it runs through-out one week, it makes a gross profit of \\\\$120. If it fails during the week, gross profit is zero. If it is running at the start of the week and we perform preventive maintenance,the probability that it will fail during the week is 0.4.  If we do not perform such maintenance, the probability of failure is 0.7. However, maintenance will cost \\\\$20.  When the machine is broken down at the start of the week (it failed during the week before),it may either be repaired at a cost of \\\\$60, in which case it will fail during the week with a probability of 0.4, or it may be replaced at a cost of \\\\$120 by a new machinethat is guaranteed to run through its first week of operation."
   ]
  },
  {
   "cell_type": "markdown",
   "metadata": {},
   "source": [
    "### Task 2.1 [Coding, 15 points]\n",
    "\n",
    "Implement Policy Iteration Algorithm [Sutton&Barto Section 4.3] to find the optimal policy of this problem respectively for $\\gamma = 0.9$ and $\\gamma = 0.4$"
   ]
  },
  {
   "cell_type": "code",
   "execution_count": null,
   "metadata": {},
   "outputs": [],
   "source": [
    "# Write auxiliary functions here"
   ]
  },
  {
   "cell_type": "code",
   "execution_count": null,
   "metadata": {},
   "outputs": [],
   "source": [
    "def policy_iter(gamma,max_it,tol):\n",
    "# input:  gamma,     (float) discount of the return\n",
    "#         max_it     (int) maximum number of iterations \n",
    "#         tol        (float) tolerance to be checked \n",
    "# output: \n",
    "#         optim_policy, (1d numpy array, int {0,1}) optimal policy\n",
    "    \n",
    "    return policy"
   ]
  },
  {
   "cell_type": "markdown",
   "metadata": {},
   "source": [
    "### Task 2.2 [Coding, 5 points]\n",
    "\n",
    "Run your policy iteration algorithm and:\n",
    "1. Print the optimal policy for this problem for $\\gamma = 0.9$\n",
    "2. Print the optimal policy for this problem for $\\gamma = 0.4$"
   ]
  }
 ],
 "metadata": {
  "kernelspec": {
   "display_name": "Python 3",
   "language": "python",
   "name": "python3"
  },
  "language_info": {
   "codemirror_mode": {
    "name": "ipython",
    "version": 3
   },
   "file_extension": ".py",
   "mimetype": "text/x-python",
   "name": "python",
   "nbconvert_exporter": "python",
   "pygments_lexer": "ipython3",
   "version": "3.8.8"
  }
 },
 "nbformat": 4,
 "nbformat_minor": 4
}
