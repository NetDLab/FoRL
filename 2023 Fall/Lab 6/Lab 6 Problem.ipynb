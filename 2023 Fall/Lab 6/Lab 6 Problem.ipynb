{
  "cells": [
    {
      "cell_type": "markdown",
      "metadata": {
        "id": "cp-bN6eR84kE"
      },
      "source": [
        "<hr/>\n",
        "\n",
        "# EN.520.637 Foundations of Reinforcement Learning\n",
        "\n",
        "<hr/>"
      ]
    },
    {
      "cell_type": "markdown",
      "metadata": {
        "id": "qpUSEkxg84kG"
      },
      "source": [
        "<h1><font color=\"darkblue\">Lab 6: Deep Q-learning  </font></h1>\n",
        "\n",
        "\n",
        "\n",
        "## Deadline\n",
        "11:59 pm Nov 28th, 2022 \n",
        "\n",
        "##  Content\n",
        "1. Example on Cartpole\n",
        "\n"
      ]
    },
    {
      "cell_type": "markdown",
      "metadata": {
        "id": "ZVXEnmyY84kH"
      },
      "source": [
        "Import torch, Gym and other necessary libraries"
      ]
    },
    {
      "cell_type": "code",
      "execution_count": 1,
      "metadata": {
        "colab": {
          "base_uri": "https://localhost:8080/"
        },
        "id": "XZ5P-RYy84kI",
        "outputId": "58317683-d52c-42f3-bd95-1f1968407f2c"
      },
      "outputs": [
        {
          "output_type": "stream",
          "name": "stdout",
          "text": [
            "Populating the interactive namespace from numpy and matplotlib\n"
          ]
        },
        {
          "output_type": "stream",
          "name": "stderr",
          "text": [
            "/usr/local/lib/python3.7/dist-packages/gym/core.py:318: DeprecationWarning: \u001b[33mWARN: Initializing wrapper in old step API which returns one bool instead of two. It is recommended to set `new_step_api=True` to use new step API. This will be the default behaviour in future.\u001b[0m\n",
            "  \"Initializing wrapper in old step API which returns one bool instead of two. It is recommended to set `new_step_api=True` to use new step API. This will be the default behaviour in future.\"\n",
            "/usr/local/lib/python3.7/dist-packages/gym/wrappers/step_api_compatibility.py:40: DeprecationWarning: \u001b[33mWARN: Initializing environment in old step API which returns one bool instead of two. It is recommended to set `new_step_api=True` to use new step API. This will be the default behaviour in future.\u001b[0m\n",
            "  \"Initializing environment in old step API which returns one bool instead of two. It is recommended to set `new_step_api=True` to use new step API. This will be the default behaviour in future.\"\n"
          ]
        }
      ],
      "source": [
        "%pylab inline\n",
        "import matplotlib.pyplot as plt\n",
        "\n",
        "from torch import nn\n",
        "import torch\n",
        "import gym\n",
        "from collections import deque\n",
        "import itertools\n",
        "import numpy as np\n",
        "import random\n",
        "\n",
        "env = gym.make('CartPole-v1')"
      ]
    },
    {
      "cell_type": "code",
      "execution_count": 2,
      "metadata": {
        "id": "M__7bRcn84kJ"
      },
      "outputs": [],
      "source": [
        "GAMMA = 0.99\n",
        "BATCH_SIZE = 32\n",
        "BUFFER_SIZE = 50000\n",
        "MIN_REPLY_SIZE = 1000\n",
        "EPSILON_START = 1.0\n",
        "EPSILON_END = 0.02\n",
        "EPSILON_DECAY = 10000\n",
        "TARGET_UPDATE_FREQ = 1000"
      ]
    },
    {
      "cell_type": "code",
      "execution_count": 3,
      "metadata": {
        "id": "OZhLN_Nm84kK"
      },
      "outputs": [],
      "source": [
        "class Network(nn.Module):\n",
        "    def __init__(self,env):\n",
        "        super().__init__()\n",
        "        \n",
        "        in_features = int(np.prod(env.observation_space.shape))\n",
        "\n",
        "        self.net = nn.Sequential(\n",
        "            nn.Linear(in_features,64),\n",
        "            nn.Tanh(),\n",
        "            nn.Linear(64,env.action_space.n))\n",
        "        \n",
        "    def forward(self,x):\n",
        "        return self.net(x)\n",
        "\n",
        "    def act(self,obs):\n",
        "        obs_t = torch.as_tensor(obs, dtype=torch.float32)\n",
        "        q_values = self(obs_t.unsqueeze(0))\n",
        "\n",
        "        max_q_index = torch.argmax(q_values, dim=1)[0]\n",
        "        action = max_q_index.detach().item()\n",
        "\n",
        "        return action"
      ]
    },
    {
      "cell_type": "code",
      "execution_count": 4,
      "metadata": {
        "colab": {
          "base_uri": "https://localhost:8080/"
        },
        "id": "vleJKnah84kL",
        "outputId": "9d5f29d3-668d-48fb-ca26-523a613c8df9"
      },
      "outputs": [
        {
          "output_type": "stream",
          "name": "stdout",
          "text": []
        }
      ],
      "source": [
        "replay_buffer = deque(maxlen=BUFFER_SIZE)\n",
        "rew_buffer = deque([0.0],maxlen=100)\n",
        "set_size = 10\n",
        "step_list = deque([0.0],maxlen=set_size)\n",
        "\n",
        "\n",
        "episode = 0\n",
        "\n",
        "\n",
        "episode_reward = 0.0\n",
        "episode_step = 0.0\n",
        "\n",
        "n_set = 40\n",
        "result = np.zeros(n_set)\n",
        "counter = 0\n",
        "\n",
        "online_net = Network(env)\n",
        "target_net = Network(env)\n",
        "\n",
        "\n",
        "\n",
        "target_net.load_state_dict(online_net.state_dict())\n",
        "\n",
        "optimizer = torch.optim.Adam(online_net.parameters(), lr=5e-4)\n",
        "\n",
        "#initiallize replay buffer\n",
        "obs = env.reset()\n",
        "for _ in range(MIN_REPLY_SIZE):\n",
        "    action = env.action_space.sample()\n",
        "\n",
        "    new_obs, rew, done, _ = env.step(action)\n",
        "    transition = (obs, action, rew, done, new_obs)\n",
        "    replay_buffer.append(transition)\n",
        "    obs = new_obs\n",
        "\n",
        "    if done:\n",
        "        obs = env.reset()\n",
        "\n",
        "# Main Training Loop\n",
        "obs = env.reset()\n",
        "\n",
        "for step in itertools.count():\n",
        "    epsilon = np.interp(step, [0, EPSILON_DECAY], [EPSILON_START,EPSILON_END])\n",
        "\n",
        "    rnd_sample = random.random()\n",
        "\n",
        "    if rnd_sample <= epsilon:\n",
        "        action = env.action_space.sample()\n",
        "    else:\n",
        "        action = online_net.act(obs)\n",
        "\n",
        "    new_obs, rew, done, _ = env.step(action)\n",
        "    transition = (obs, action, rew, done, new_obs)\n",
        "    replay_buffer.append(transition)\n",
        "    obs = new_obs\n",
        "\n",
        "    episode_reward += rew\n",
        "    episode_step += 1\n",
        "\n",
        "    if done:\n",
        "        episode += 1\n",
        "        \n",
        "        obs = env.reset()\n",
        "        step_list.append(episode_step)\n",
        "        rew_buffer.append(episode_reward)\n",
        "        episode_reward = 0.0\n",
        "        episode_step = 0.0\n",
        "\n",
        "    #Start Gradient Step\n",
        "    transitions = random.sample(replay_buffer, BATCH_SIZE)\n",
        "\n",
        "    obses = np.asarray([t[0] for t in transitions])\n",
        "    actions = np.asarray([t[1] for t in transitions])\n",
        "    rews = np.asarray([t[2] for t in transitions])\n",
        "    dones = np.asarray([t[3] for t in transitions])\n",
        "    new_obses = np.asarray([t[4] for t in transitions])\n",
        "\n",
        "    obses_t = torch.as_tensor(obses, dtype=torch.float32)\n",
        "    actions_t = torch.as_tensor(actions, dtype=torch.int64).unsqueeze(-1)\n",
        "    rews_t = torch.as_tensor(rews, dtype=torch.float32).unsqueeze(-1)\n",
        "    dones_t = torch.as_tensor(dones, dtype=torch.float32).unsqueeze(-1)\n",
        "    new_obses_t = torch.as_tensor(new_obses, dtype=torch.float32)\n",
        "\n",
        "\n",
        "    # Compute Targets\n",
        "    target_q_values = target_net(new_obses_t)\n",
        "    max_target_q_values = target_q_values.max(dim=1, keepdim=True)[0]\n",
        "\n",
        "    targets = rews_t + GAMMA*(1 - dones_t)*max_target_q_values\n",
        "\n",
        "    # Compute Loss\n",
        "    q_values = online_net(obses_t)\n",
        "\n",
        "    action_q_values = torch.gather(input=q_values, dim=1, index=actions_t)\n",
        "\n",
        "    loss = nn.functional.smooth_l1_loss(action_q_values, targets)\n",
        "\n",
        "    #Gradient Descent\n",
        "    optimizer.zero_grad()\n",
        "    loss.backward()\n",
        "    optimizer.step()\n",
        "\n",
        "\n",
        "    # Update Target Network\n",
        "    if step % TARGET_UPDATE_FREQ == 0:\n",
        "        target_net.load_state_dict(online_net.state_dict())\n",
        "\n",
        "    #Logging\n",
        "    if episode % (set_size+1) == 0:\n",
        "        episode += 1\n",
        "        result[counter] = np.mean(step_list)\n",
        "        print(\"Finishing set {}/{}...\".format(counter+1,n_set),end=\"\\r\",flush=True)\n",
        "        if counter == n_set-1:\n",
        "            break\n",
        "        counter+=1\n"
      ]
    },
    {
      "cell_type": "code",
      "execution_count": 6,
      "metadata": {
        "colab": {
          "base_uri": "https://localhost:8080/",
          "height": 418
        },
        "id": "EyOhU56284kM",
        "outputId": "8af44ca3-3a2b-4143-dd89-d63751c0ad2e"
      },
      "outputs": [
        {
          "output_type": "display_data",
          "data": {
            "text/plain": [
              "<Figure size 864x432 with 1 Axes>"
            ],
            "image/png": "[encoded data removed]"
          },
          "metadata": {
            "needs_background": "light"
          }
        }
      ],
      "source": [
        "font = {'weight' : 'bold',\n",
        "        'size'   : 15}\n",
        "matplotlib.rc('font', **font)\n",
        "\n",
        "figure(figsize=(12,6))\n",
        "ax = subplot(1,1,1)\n",
        "ax.plot(range(len(result)), result, linewidth=2, color='r')\n",
        "plt.title(\"Episode length (more is better) per training set\")\n",
        "plt.ylabel(\"Average episode length per training set\");\n",
        "plt.xlabel(\"Set number ({} episodes simulated in each set)\".format(set_size));"
      ]
    },
    {
      "cell_type": "markdown",
      "metadata": {
        "id": "U-r6Mx3k84kO"
      },
      "source": [
        "#### 0. Understand the Deep Q-learning codes above, a good referance can be found in Algorithm 1 [Mnih, V., Kavukcuoglu, K., Silver, D. et al. Human-level control through deep reinforcement learning. Nature 518, 529–533 (2015)](https://www.nature.com/articles/nature14236) <br>"
      ]
    },
    {
      "cell_type": "markdown",
      "metadata": {
        "id": "GoNxaLDw84kQ"
      },
      "source": [
        "### [Task 1: 10 points]. Try to apply 2 different activation functions (e.g. Sigmoid, ReLU) in the  Deep Q-learning codes above. Then, plot the average episode length (same plot as above)."
      ]
    },
    {
      "cell_type": "code",
      "execution_count": 5,
      "metadata": {
        "id": "1L_uyhNC84kQ"
      },
      "outputs": [],
      "source": []
    },
    {
      "cell_type": "markdown",
      "metadata": {
        "id": "I4QJ_AbG84kR"
      },
      "source": [
        "### [Task 2: 10 points]. Using the best activation function you found in (1), try to modify the network stucture defined in self.net to improve the average episode length. (e.g. add/decrease number of nodes/hidden layers) Plot the average episode length."
      ]
    },
    {
      "cell_type": "code",
      "execution_count": 5,
      "metadata": {
        "id": "wzjP5RgF84kR"
      },
      "outputs": [],
      "source": []
    },
    {
      "cell_type": "markdown",
      "metadata": {
        "id": "wXl8Qyer84kR"
      },
      "source": [
        "### [Task 3: 10 points].  With the network stucture and activation function unchanged, try to modify the reward to improve the average episode length. (e.g. give more reward if angle is small) Plot it."
      ]
    },
    {
      "cell_type": "code",
      "execution_count": 5,
      "metadata": {
        "id": "MlCtCCRV84kS"
      },
      "outputs": [],
      "source": []
    }
  ],
  "metadata": {
    "colab": {
      "provenance": [],
      "collapsed_sections": []
    },
    "kernelspec": {
      "display_name": "Python 3",
      "language": "python",
      "name": "python3"
    },
    "language_info": {
      "codemirror_mode": {
        "name": "ipython",
        "version": 3
      },
      "file_extension": ".py",
      "mimetype": "text/x-python",
      "name": "python",
      "nbconvert_exporter": "python",
      "pygments_lexer": "ipython3",
      "version": "3.8.8"
    }
  },
  "nbformat": 4,
  "nbformat_minor": 0
}